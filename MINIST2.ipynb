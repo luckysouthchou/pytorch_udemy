{
  "nbformat": 4,
  "nbformat_minor": 0,
  "metadata": {
    "colab": {
      "name": "MINIST2.ipynb",
      "provenance": [],
      "authorship_tag": "ABX9TyOjll1Si4oXeVtzepqav0xi",
      "include_colab_link": true
    },
    "kernelspec": {
      "name": "python3",
      "display_name": "Python 3"
    },
    "accelerator": "GPU"
  },
  "cells": [
    {
      "cell_type": "markdown",
      "metadata": {
        "id": "view-in-github",
        "colab_type": "text"
      },
      "source": [
        "<a href=\"https://colab.research.google.com/github/luckysouthchou/pytorch_udemy/blob/master/MINIST2.ipynb\" target=\"_parent\"><img src=\"https://colab.research.google.com/assets/colab-badge.svg\" alt=\"Open In Colab\"/></a>"
      ]
    },
    {
      "cell_type": "code",
      "metadata": {
        "id": "ZjY_GADJY52D",
        "colab_type": "code",
        "outputId": "3c83d4b8-18a6-4151-9cf9-6262afcf5961",
        "colab": {
          "base_uri": "https://localhost:8080/",
          "height": 107
        }
      },
      "source": [
        "!pip3 install torch torchvision\n",
        "\n"
      ],
      "execution_count": 32,
      "outputs": [
        {
          "output_type": "stream",
          "text": [
            "Requirement already satisfied: torch in /usr/local/lib/python3.6/dist-packages (1.4.0)\n",
            "Requirement already satisfied: torchvision in /usr/local/lib/python3.6/dist-packages (0.5.0)\n",
            "Requirement already satisfied: six in /usr/local/lib/python3.6/dist-packages (from torchvision) (1.12.0)\n",
            "Requirement already satisfied: pillow>=4.1.1 in /usr/local/lib/python3.6/dist-packages (from torchvision) (7.0.0)\n",
            "Requirement already satisfied: numpy in /usr/local/lib/python3.6/dist-packages (from torchvision) (1.18.2)\n"
          ],
          "name": "stdout"
        }
      ]
    },
    {
      "cell_type": "code",
      "metadata": {
        "id": "abq-C5MUZMnZ",
        "colab_type": "code",
        "colab": {}
      },
      "source": [
        "import torch\n",
        "import matplotlib.pyplot as plt\n",
        "import numpy as np\n",
        "from torch import nn\n",
        "import torch.nn.functional as F\n",
        "from torchvision import datasets, transforms\n",
        "\n"
      ],
      "execution_count": 0,
      "outputs": []
    },
    {
      "cell_type": "code",
      "metadata": {
        "id": "IkpdpGgLDKC5",
        "colab_type": "code",
        "colab": {}
      },
      "source": [
        "device = torch.device('cuda:0' if torch.cuda.is_available() else 'cpu') "
      ],
      "execution_count": 0,
      "outputs": []
    },
    {
      "cell_type": "code",
      "metadata": {
        "id": "bD0pBXo4ZjWq",
        "colab_type": "code",
        "colab": {}
      },
      "source": [
        "#image = (image - mean) / std\n",
        "'''If you read the documentation here 872, you will see that both parameters are “Sequences for each channel”. Color images have three channels (red, green, blue), therefore you need three parameters to normalize each channel. The first tuple (0.5, 0.5, 0.5) is the mean for all three channels and the second (0.5, 0.5, 0.5) is the standard deviation for all three channels.'''\n",
        "\n",
        "transform =  transforms.Compose([transforms.Resize ((28, 28)),\n",
        "                                #resize it to 28 by 28, because the imgae may be 1000 by 1000 or other scale, we need to make sure and using one standerd\n",
        "                                transforms.ToTensor(),\n",
        "                                transforms.Normalize((0.5, ), (0.5, ))\n",
        "                                ])\n",
        "training_dataset = datasets.MNIST(root='./data', train=True, download=True, transform=transform)\n",
        "validation_dataset = datasets.MNIST(root='./data', train=False, download=True, transform=transform)\n",
        "#training = False .>>> in order to validate the model in the end \n",
        "\n",
        "training_loader = torch.utils.data.DataLoader(dataset=training_dataset, batch_size=100, shuffle=True)\n",
        "validation_loader = torch.utils.data.DataLoader(dataset = validation_dataset, batch_size =100, shuffle = False)"
      ],
      "execution_count": 0,
      "outputs": []
    },
    {
      "cell_type": "code",
      "metadata": {
        "id": "Pg7AQKsobN_4",
        "colab_type": "code",
        "colab": {}
      },
      "source": [
        "def im_convert(tensor):\n",
        "  image = tensor.cpu().clone().detach().numpy()\n",
        "  image = image.transpose(1, 2, 0)\n",
        "  #1, 28, 28 >> 28, 28, 1 (1 is channel) (C, H, W)(channel, height, weight)\n",
        "  #denormalization\n",
        "  #print(image.shape)\n",
        "  image = image * np.array((0.5, 0.5, 0.5)) + np.array((0.5, 0.5, 0.5))\n",
        "  image = image.clip(0, 1)\n",
        "  #small than0, become 0, bigger than 1, become 1: .clip()\n",
        "  return image"
      ],
      "execution_count": 0,
      "outputs": []
    },
    {
      "cell_type": "code",
      "metadata": {
        "id": "EbQb4j9q8vds",
        "colab_type": "code",
        "colab": {}
      },
      "source": [
        "#classes = ('plane', 'car', 'bird', 'cat', 'deer', 'dog', 'frog', 'horse', 'ship', 'truck')"
      ],
      "execution_count": 0,
      "outputs": []
    },
    {
      "cell_type": "code",
      "metadata": {
        "id": "Iq7V4-GkodJq",
        "colab_type": "code",
        "outputId": "52715589-654e-4a36-feb2-73d0c26d963e",
        "colab": {
          "base_uri": "https://localhost:8080/",
          "height": 212
        }
      },
      "source": [
        "#For example, such a dataset, when called iter(dataset), could return a stream of data reading from a database, a remote server, or even logs generated in real time.\n",
        "dataiter  = iter(training_loader)\n",
        "images, labels = dataiter.next()\n",
        "\n",
        "fig = plt.figure(figsize = (25, 4))\n",
        "#weight, height of the figure(25, 4)\n",
        "for idx in np.arange(20):\n",
        "  ax = fig.add_subplot(2, 10, idx+1, xticks=[], yticks=[])\n",
        "  plt.imshow(im_convert(images[idx]))\n",
        "  ax.set_title([labels[idx].item()])\n",
        "  "
      ],
      "execution_count": 38,
      "outputs": [
        {
          "output_type": "display_data",
          "data": {
            "image/png": "[encoded data removed]",
            "text/plain": [
              "<Figure size 1800x288 with 20 Axes>"
            ]
          },
          "metadata": {
            "tags": []
          }
        }
      ]
    },
    {
      "cell_type": "code",
      "metadata": {
        "id": "Q9r1MSse0ndJ",
        "colab_type": "code",
        "colab": {}
      },
      "source": [
        "class LeNet(nn.Module):\n",
        "  def __init__(self):\n",
        "    super().__init__()\n",
        "    self.conv1 = nn.Conv2d(1, 20, 5, 1)\n",
        "    #convolutional layer 1: 3 chanel , 20 output chanel , 5 kernel size, stride length 1)\n",
        "    self.conv2 = nn.Conv2d(20, 50, 5, 1)\n",
        "    #convolutional layer 2: 20 input chanel, 50 output chanel, 5 kernel size/ filter size, stride length 1) \n",
        "    self.fc1 = nn.Linear(4*4*50, 500)\n",
        "    #fully connected layer 1: 28-2*2 = 24, 24/2 = 12, 12-2*2 = 8, 8/2 = 4, 4 by 4 , with 500 chanel \n",
        "    self.dropout1 = nn.Dropout(0.5)\n",
        "    #fully connected layer 2: \n",
        "    self.fc2 = nn.Linear(500, 10)\n",
        "    \n",
        "  def forward(self, x):\n",
        "    #define convolution forward and  pooling layer\n",
        "    x = F.relu(self.conv1(x))\n",
        "    #relu:activation function to transfer value to probability\n",
        "    #define convolution layer\n",
        "    x = F.max_pool2d(x, 2, 2)\n",
        "    #mdefine pooling layer: ax pooling kernel , 2 by 2 kernel \n",
        "    x = F.relu(self.conv2(x))\n",
        "    x = F.max_pool2d(x, 2, 2)\n",
        "    x = x.view(-1, 4*4*50)\n",
        "    #reshape x into falttened \n",
        "    x = F.relu(self.fc1(x))\n",
        "    #relu is used to transfer value to probability\n",
        "    x = self.dropout1(x)\n",
        "    x = self.fc2(x)\n",
        "    return x\n",
        "\n"
      ],
      "execution_count": 0,
      "outputs": []
    },
    {
      "cell_type": "code",
      "metadata": {
        "id": "mhtErY_SAZFR",
        "colab_type": "code",
        "outputId": "762ee057-c481-4ae2-908c-6e5d30ea4d54",
        "colab": {
          "base_uri": "https://localhost:8080/",
          "height": 143
        }
      },
      "source": [
        "model = LeNet().to(device)\n",
        "model"
      ],
      "execution_count": 40,
      "outputs": [
        {
          "output_type": "execute_result",
          "data": {
            "text/plain": [
              "LeNet(\n",
              "  (conv1): Conv2d(1, 20, kernel_size=(5, 5), stride=(1, 1))\n",
              "  (conv2): Conv2d(20, 50, kernel_size=(5, 5), stride=(1, 1))\n",
              "  (fc1): Linear(in_features=800, out_features=500, bias=True)\n",
              "  (dropout1): Dropout(p=0.5, inplace=False)\n",
              "  (fc2): Linear(in_features=500, out_features=10, bias=True)\n",
              ")"
            ]
          },
          "metadata": {
            "tags": []
          },
          "execution_count": 40
        }
      ]
    },
    {
      "cell_type": "code",
      "metadata": {
        "id": "QvRD-74F7j0C",
        "colab_type": "code",
        "colab": {}
      },
      "source": [
        "criterion = nn.CrossEntropyLoss()\n",
        "optimizer = torch.optim.Adam(model.parameters(), lr = 0.0001)\n",
        "#we can reset the learning rates to 0.001 even 0.0001to have a good prediction"
      ],
      "execution_count": 0,
      "outputs": []
    },
    {
      "cell_type": "code",
      "metadata": {
        "id": "HzQzdY9WAU8Z",
        "colab_type": "code",
        "colab": {}
      },
      "source": [
        ""
      ],
      "execution_count": 0,
      "outputs": []
    },
    {
      "cell_type": "code",
      "metadata": {
        "id": "OokInIUW78ly",
        "colab_type": "code",
        "outputId": "4a2db7f0-db2c-40fe-9772-71a07c741aea",
        "colab": {
          "base_uri": "https://localhost:8080/",
          "height": 467
        }
      },
      "source": [
        "epochs = 15\n",
        "running_loss_history = []\n",
        "#store loss of every epoch\n",
        "running_correct_history = []\n",
        "#accuracy of every epoch\n",
        "val_running_loss_history = []\n",
        "val_running_correct_history = []\n",
        "#store validation loss , and validation loss correction to a empty array\n",
        "for e in range(epochs):\n",
        "  running_loss = 0.0\n",
        "  running_corrects = 0.0\n",
        "  #inistiate accuract value = 0.00\n",
        "  val_running_loss = 0.0\n",
        "  val_running_correct = 0.0\n",
        "\n",
        "\n",
        "  for inputs, labels in training_loader: \n",
        "    inputs = inputs.to(device)\n",
        "    labels = labels.to(device)\n",
        "    #inputs = inputs.view(inputs.shape[0], -1)\n",
        "    #1, 784(1 channel, 28 * 28), make image 1 dimentional  \n",
        "    outputs = model(inputs)\n",
        "    #model using linear first, then using softmax to transfer the number into probabiloities, if the model is more sinple. softmax can be sigmoid function to transfer the number into probability\n",
        "    loss = criterion(outputs, labels)\n",
        "\n",
        "    optimizer.zero_grad()\n",
        "    loss.backward()\n",
        "    optimizer.step()\n",
        "\n",
        "    _, preds = torch.max(outputs, 1)\n",
        "    #return the index of the maximum probability value for that image\n",
        "    running_corrects += torch.sum(preds == labels.data)\n",
        "\n",
        "    running_loss += loss.item()\n",
        "    #running loss: loss plus per batch\n",
        "\n",
        "  else:\n",
        "    #validation!\n",
        "    with torch.no_grad():\n",
        "      #set all grad flags to be false to save the memory\n",
        "\n",
        "      for val_inputs, val_labels  in validation_loader:\n",
        "      #validation process\n",
        "        #val_inputs = val_inputs.view(inputs.shape[0], -1)\n",
        "        #1, 784(1 channel, 28 * 28), make image 1 dimentional  \n",
        "        val_inputs = val_inputs.to(device)\n",
        "        val_labels = val_labels.to(device)\n",
        "        val_outputs = model(val_inputs)\n",
        "        #model using linear first, then using softmax to transfer the number into probabiloities, if the model is more sinple. softmax can be sigmoid function to transfer the number into probability\n",
        "        val_loss = criterion(val_outputs, val_labels)\n",
        "        #do not need to pred and zero_grad() and backward and step, because it's validation step. it has their own labels correctly\n",
        "        \n",
        "        \n",
        "        _, val_preds = torch.max(val_outputs, 1)\n",
        "        #return the index of the maximum probability value for that image\n",
        "        val_running_correct += torch.sum(val_preds == val_labels.data)\n",
        "\n",
        "        val_running_loss += val_loss.item()\n",
        "        #running loss: loss plus per batch\n",
        "\n",
        "\n",
        "\n",
        "    epoch_loss = running_loss / len(training_loader)\n",
        "    epoch_acc = running_corrects.float()/len(training_loader)\n",
        "    #epoch_loss : loss of every epoch\n",
        "    running_loss_history.append(epoch_loss)\n",
        "    running_correct_history.append(epoch_acc)\n",
        "\n",
        "\n",
        "    #validation \n",
        "    val_epoch_loss = val_running_loss / len(validation_loader)\n",
        "    val_epoch_acc = val_running_correct.float()/len(validation_loader)\n",
        "\n",
        "    val_running_loss_history.append(val_epoch_loss)\n",
        "    val_running_correct_history.append(val_epoch_acc)\n",
        "    print('epoch:',(e+1))\n",
        "\n",
        "\n",
        "\n",
        "\n",
        "\n",
        "\n",
        "\n",
        "\n",
        "\n",
        "\n",
        "    \n",
        "    #print test datse set out comes with loss and accuracy\n",
        "    print('training loss: {:.4f}'.format(epoch_loss))\n",
        "    print('trainig accuracy: {:.4f}'.format(epoch_acc.item()))\n",
        "    #print validation \n",
        "    print('val_training loss: {:.4f}'.format(val_epoch_loss))\n",
        "    print('val_trainig accuracy: {:.4f}'.format(val_epoch_acc.item()))"
      ],
      "execution_count": 0,
      "outputs": [
        {
          "output_type": "stream",
          "text": [
            "epoch: 1\n",
            "training loss: 0.5876\n",
            "trainig accuracy: 83.7217\n",
            "val_training loss: 0.1943\n",
            "val_trainig accuracy: 94.2100\n",
            "epoch: 2\n",
            "training loss: 0.1554\n",
            "trainig accuracy: 95.4233\n",
            "val_training loss: 0.1080\n",
            "val_trainig accuracy: 96.7900\n",
            "epoch: 3\n",
            "training loss: 0.1046\n",
            "trainig accuracy: 96.8583\n",
            "val_training loss: 0.0824\n",
            "val_trainig accuracy: 97.5300\n",
            "epoch: 4\n",
            "training loss: 0.0811\n",
            "trainig accuracy: 97.6117\n",
            "val_training loss: 0.0637\n",
            "val_trainig accuracy: 98.1400\n",
            "epoch: 5\n",
            "training loss: 0.0681\n",
            "trainig accuracy: 97.9450\n",
            "val_training loss: 0.0556\n",
            "val_trainig accuracy: 98.2300\n"
          ],
          "name": "stdout"
        }
      ]
    },
    {
      "cell_type": "code",
      "metadata": {
        "id": "nVn1iMVh8kV3",
        "colab_type": "code",
        "colab": {}
      },
      "source": [
        "plt.plot(running_loss_history, label = 'training loss')\n",
        "plt.plot(val_running_loss_history, label = 'validation loss')\n",
        "plt.legend()"
      ],
      "execution_count": 0,
      "outputs": []
    },
    {
      "cell_type": "code",
      "metadata": {
        "id": "vPMB1vklJXL5",
        "colab_type": "code",
        "colab": {}
      },
      "source": [
        "#to see is the plot of accuracy has convergency "
      ],
      "execution_count": 0,
      "outputs": []
    },
    {
      "cell_type": "code",
      "metadata": {
        "id": "d1FTFVVz81Iv",
        "colab_type": "code",
        "colab": {}
      },
      "source": [
        "#this graph is fluctuated, so reset the learning rates to a more minor vakue 0.01>>>> 0.001>>>>>0.0001, and run the program again"
      ],
      "execution_count": 0,
      "outputs": []
    },
    {
      "cell_type": "code",
      "metadata": {
        "id": "_LY6-OXNAWe1",
        "colab_type": "code",
        "colab": {}
      },
      "source": [
        "plt.plot(running_correct_history, label = 'training accuracy')\n",
        "plt.plot(val_running_correct_history, label = 'validation training accuracy')\n",
        "plt.legend()"
      ],
      "execution_count": 0,
      "outputs": []
    },
    {
      "cell_type": "code",
      "metadata": {
        "id": "iiS_rxaVNIJf",
        "colab_type": "code",
        "colab": {}
      },
      "source": [
        "!pip3 install pillow==7.0.0\n",
        "\n",
        "import PIL.ImageOps"
      ],
      "execution_count": 0,
      "outputs": []
    },
    {
      "cell_type": "code",
      "metadata": {
        "id": "5KHu-_eFAc3_",
        "colab_type": "code",
        "colab": {}
      },
      "source": [
        "import requests\n",
        "\n",
        "from PIL import Image\n",
        "#PIL:python image library\n",
        "#using a image from internet\n",
        "url = 'https://images.homedepot-static.com/productImages/007164ea-d47e-4f66-8d8c-fd9f621984a2/svn/architectural-mailboxes-house-letters-numbers-3585b-5-64_1000.jpg'\n",
        "response = requests.get(url, stream = True)\n",
        "img = Image.open(response.raw)\n",
        "plt.imshow(img)\n",
        "print(response)"
      ],
      "execution_count": 0,
      "outputs": []
    },
    {
      "cell_type": "code",
      "metadata": {
        "id": "SkPV_j76MYuJ",
        "colab_type": "code",
        "colab": {}
      },
      "source": [
        "img = PIL.ImageOps.invert(img)\n",
        "#change background color form white to black because our test data is black background, we need to confirm that\n",
        "img = img.convert('1')\n",
        "#trasnform ima from 1000 by 1000 to 28 by 28\n",
        "img = transform(img)\n",
        "#make sure to resieze image to 28 by 28 and from numpy array to tensor format\n",
        "plt.imshow(im_convert(img))"
      ],
      "execution_count": 0,
      "outputs": []
    },
    {
      "cell_type": "code",
      "metadata": {
        "id": "_ITrVWu8SobN",
        "colab_type": "code",
        "colab": {}
      },
      "source": [
        "images = img.to(device)\n",
        "#print(img[0].size())\n",
        "image = images[0].unsqueeze(0).unsqueeze(0)\n",
        "#unsqueeze(0) add x axis bracket to orginal tensor, unqueeze(1) add y axis bracket to original tensor in order to create 3 dimential chanel\n",
        "#1, 784(1 channel, 28 * 28), make image 1 dimentional  \n",
        "output = model(image)\n",
        "#model using linear first, then using softmax to transfer the number into probabiloities, if the model is more sinple. softmax can be sigmoid function to transfer the number into probability\n",
        "_, pred = torch.max(output, 1)\n",
        "#return the index of the maximum probability value for that image\n",
        "print(pred.item())"
      ],
      "execution_count": 0,
      "outputs": []
    },
    {
      "cell_type": "code",
      "metadata": {
        "id": "_Q3P22XjTPR_",
        "colab_type": "code",
        "colab": {}
      },
      "source": [
        "#For example, such a dataset, when called iter(dataset), could return a stream of data reading from a database, a remote server, or even logs generated in real time.\n",
        "dataiter  = iter(validation_loader)\n",
        "images, labels = dataiter.next()\n",
        "images = images.to(device)\n",
        "labels = labels.to(device)\n",
        "#images_ = images.view(images.shape[0], -1)\n",
        "output = model(images)\n",
        "_, preds = torch.max(output, 1)\n",
        "\n",
        "fig = plt.figure(figsize = (25, 4))\n",
        "\n",
        "#weight, height of the figure(25, 4)\n",
        "for idx in np.arange(20):\n",
        "  ax = fig.add_subplot(2, 10, idx+1, xticks=[], yticks=[])\n",
        "  plt.imshow(im_convert(images[idx]))\n",
        "  ax.set_title('{}({})'.format(str(preds[idx].item()), str(labels[idx].item())), color=('green' if preds[idx]==labels[idx] else 'red'))\n"
      ],
      "execution_count": 0,
      "outputs": []
    },
    {
      "cell_type": "code",
      "metadata": {
        "id": "ONOVWXI4WkSr",
        "colab_type": "code",
        "colab": {}
      },
      "source": [
        ""
      ],
      "execution_count": 0,
      "outputs": []
    }
  ]
}