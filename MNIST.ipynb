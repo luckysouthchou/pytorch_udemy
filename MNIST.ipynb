{
  "nbformat": 4,
  "nbformat_minor": 0,
  "metadata": {
    "colab": {
      "name": "MNIST.ipynb",
      "provenance": [],
      "authorship_tag": "ABX9TyPzwvKQMkRuhXtT3/pnHbom",
      "include_colab_link": true
    },
    "kernelspec": {
      "name": "python3",
      "display_name": "Python 3"
    }
  },
  "cells": [
    {
      "cell_type": "markdown",
      "metadata": {
        "id": "view-in-github",
        "colab_type": "text"
      },
      "source": [
        "<a href=\"https://colab.research.google.com/github/luckysouthchou/pytorch_udemy/blob/master/MNIST.ipynb\" target=\"_parent\"><img src=\"https://colab.research.google.com/assets/colab-badge.svg\" alt=\"Open In Colab\"/></a>"
      ]
    },
    {
      "cell_type": "code",
      "metadata": {
        "id": "ZjY_GADJY52D",
        "colab_type": "code",
        "outputId": "88383116-bf02-4475-cc9d-799b7b86db39",
        "colab": {
          "base_uri": "https://localhost:8080/",
          "height": 102
        }
      },
      "source": [
        "!pip3 install torch torchvision\n"
      ],
      "execution_count": 37,
      "outputs": [
        {
          "output_type": "stream",
          "text": [
            "Requirement already satisfied: torch in /usr/local/lib/python3.6/dist-packages (1.4.0)\n",
            "Requirement already satisfied: torchvision in /usr/local/lib/python3.6/dist-packages (0.5.0)\n",
            "Requirement already satisfied: numpy in /usr/local/lib/python3.6/dist-packages (from torchvision) (1.18.2)\n",
            "Requirement already satisfied: pillow>=4.1.1 in /usr/local/lib/python3.6/dist-packages (from torchvision) (7.0.0)\n",
            "Requirement already satisfied: six in /usr/local/lib/python3.6/dist-packages (from torchvision) (1.12.0)\n"
          ],
          "name": "stdout"
        }
      ]
    },
    {
      "cell_type": "code",
      "metadata": {
        "id": "abq-C5MUZMnZ",
        "colab_type": "code",
        "colab": {}
      },
      "source": [
        "import torch\n",
        "import matplotlib.pyplot as plt\n",
        "import numpy as np\n",
        "from torch import nn\n",
        "import torch.nn.functional as F\n",
        "from torchvision import datasets, transforms\n",
        "\n"
      ],
      "execution_count": 0,
      "outputs": []
    },
    {
      "cell_type": "code",
      "metadata": {
        "id": "bD0pBXo4ZjWq",
        "colab_type": "code",
        "colab": {}
      },
      "source": [
        "#image = (image - mean) / std\n",
        "'''If you read the documentation here 872, you will see that both parameters are “Sequences for each channel”. Color images have three channels (red, green, blue), therefore you need three parameters to normalize each channel. The first tuple (0.5, 0.5, 0.5) is the mean for all three channels and the second (0.5, 0.5, 0.5) is the standard deviation for all three channels.'''\n",
        "\n",
        "transform =  transforms.Compose([transforms.ToTensor(),\n",
        "                                transforms.Normalize((0.5, ), (0.5, ))\n",
        "                                ])\n",
        "training_dataset = datasets.MNIST(root='./data', train=True, download=True, transform=transform)\n",
        "\n",
        "\n",
        "training_loader = torch.utils.data.DataLoader(dataset=training_dataset, batch_size=100, shuffle=True)"
      ],
      "execution_count": 0,
      "outputs": []
    },
    {
      "cell_type": "code",
      "metadata": {
        "id": "Pg7AQKsobN_4",
        "colab_type": "code",
        "colab": {}
      },
      "source": [
        "def im_convert(tensor):\n",
        "  image = tensor.clone().detach().numpy()\n",
        "  image = image.transpose(1, 2, 0)\n",
        "  #1, 28, 28 >> 28, 28, 1 (1 is channel) (C, H, W)(channel, height, weight)\n",
        "  #denormalization\n",
        "  #print(image.shape)\n",
        "  image = image * np.array((0.5)) + np.array(0.5)\n",
        "  image = image.clip(0, 1)\n",
        "  #small than0, become 0, bigger than 1, become 1: .clip()\n",
        "  return image"
      ],
      "execution_count": 0,
      "outputs": []
    },
    {
      "cell_type": "code",
      "metadata": {
        "id": "Iq7V4-GkodJq",
        "colab_type": "code",
        "outputId": "61e9b865-4856-44d3-a1af-cf3cdb0b1c56",
        "colab": {
          "base_uri": "https://localhost:8080/",
          "height": 54
        }
      },
      "source": [
        "#For example, such a dataset, when called iter(dataset), could return a stream of data reading from a database, a remote server, or even logs generated in real time.\n",
        "dataiter  = iter(training_loader)\n",
        "images, labels = dataiter.next()\n",
        "'''\n",
        "fig = plt.figure(figsize = (25, 4))\n",
        "#weight, height of the figure(25, 4)\n",
        "for idx in np.arange(20):\n",
        "  ax = fig.add_subplot(2, 10, idx+1)\n",
        "  plt.imshow(im_convert(images[idx]))\n",
        "  ax.set_title([labels[idx].item()])\n",
        "  '''"
      ],
      "execution_count": 41,
      "outputs": [
        {
          "output_type": "execute_result",
          "data": {
            "text/plain": [
              "'\\nfig = plt.figure(figsize = (25, 4))\\n#weight, height of the figure(25, 4)\\nfor idx in np.arange(20):\\n  ax = fig.add_subplot(2, 10, idx+1)\\n  plt.imshow(im_convert(images[idx]))\\n  ax.set_title([labels[idx].item()])\\n  '"
            ]
          },
          "metadata": {
            "tags": []
          },
          "execution_count": 41
        }
      ]
    },
    {
      "cell_type": "code",
      "metadata": {
        "id": "Q9r1MSse0ndJ",
        "colab_type": "code",
        "colab": {
          "base_uri": "https://localhost:8080/",
          "height": 102
        },
        "outputId": "32d0cada-1f79-447e-d43a-8bccfecbec6e"
      },
      "source": [
        "class Classfier(nn.Module):\n",
        "  def __init__(self, D_in, H1, H2, D_out):\n",
        "    super().__init__()\n",
        "    self.linear1 = nn.Linear(D_in, H1)\n",
        "    self.linear2 = nn.Linear(H1, H2)\n",
        "    self.linear3 = nn.Linear(H2, D_out)\n",
        "  def forward(self, x):\n",
        "    x = F.relu(self.linear1(x))\n",
        "    x = F.relu(self.linear2(x))\n",
        "    x = self.linear3(x)\n",
        "    return x\n",
        "\n",
        "model = Classfier(784, 125, 65, 10)\n",
        "model\n"
      ],
      "execution_count": 42,
      "outputs": [
        {
          "output_type": "execute_result",
          "data": {
            "text/plain": [
              "Classfier(\n",
              "  (linear1): Linear(in_features=784, out_features=125, bias=True)\n",
              "  (linear2): Linear(in_features=125, out_features=65, bias=True)\n",
              "  (linear3): Linear(in_features=65, out_features=10, bias=True)\n",
              ")"
            ]
          },
          "metadata": {
            "tags": []
          },
          "execution_count": 42
        }
      ]
    },
    {
      "cell_type": "code",
      "metadata": {
        "id": "QvRD-74F7j0C",
        "colab_type": "code",
        "colab": {}
      },
      "source": [
        "criterion = nn.CrossEntropyLoss()\n",
        "optimizer = torch.optim.Adam(model.parameters(), lr = 0.0001)\n",
        "#we can reset the learning rates to 0.001 even 0.0001to have a good prediction"
      ],
      "execution_count": 0,
      "outputs": []
    },
    {
      "cell_type": "code",
      "metadata": {
        "id": "HzQzdY9WAU8Z",
        "colab_type": "code",
        "colab": {}
      },
      "source": [
        ""
      ],
      "execution_count": 0,
      "outputs": []
    },
    {
      "cell_type": "code",
      "metadata": {
        "id": "OokInIUW78ly",
        "colab_type": "code",
        "colab": {
          "base_uri": "https://localhost:8080/",
          "height": 425
        },
        "outputId": "66870f62-07dc-44ef-ab55-b5ef1bb2bfd1"
      },
      "source": [
        "epochs = 12\n",
        "running_loss_history = []\n",
        "#store loss of every epoch\n",
        "running_correct_history = []\n",
        "#accuracy of every epoch\n",
        "\n",
        "\n",
        "for e in range(epochs):\n",
        "  running_loss = 0.0\n",
        "  running_corrects = 0.0\n",
        "  #inistiate accuract value = 0.00\n",
        "  for inputs, labels in training_loader: \n",
        "    inputs = inputs.view(inputs.shape[0], -1)\n",
        "    #1, 784(1 channel, 28 * 28), make image 1 dimentional  \n",
        "    outputs = model(inputs)\n",
        "    #model using linear first, then using softmax to transfer the number into probabiloities, if the model is more sinple. softmax can be sigmoid function to transfer the number into probability\n",
        "    loss = criterion(outputs, labels)\n",
        "\n",
        "    optimizer.zero_grad()\n",
        "    loss.backward()\n",
        "    optimizer.step()\n",
        "\n",
        "    _, preds = torch.max(outputs, 1)\n",
        "    #return the index of the maximum probability value for that image\n",
        "    running_corrects += torch.sum(preds == labels.data)\n",
        "\n",
        "    running_loss += loss.item()\n",
        "    #running loss: loss plus per batch\n",
        "  else:\n",
        "    epoch_loss = running_loss / len(training_loader)\n",
        "    epoch_acc = running_corrects.float()/len(training_loader)\n",
        "    #epoch_loss : loss of every epoch\n",
        "    running_loss_history.append(epoch_loss)\n",
        "    running_correct_history.append(epoch_acc)\n",
        "    print('training loss: {:.4f}'.format(epoch_loss))\n",
        "    print('trainig accuracy: {:.4f}'.format(epoch_acc.item()))"
      ],
      "execution_count": 50,
      "outputs": [
        {
          "output_type": "stream",
          "text": [
            "training loss: 0.1463\n",
            "trainig accuracy: 95.7483\n",
            "training loss: 0.1380\n",
            "trainig accuracy: 95.9917\n",
            "training loss: 0.1307\n",
            "trainig accuracy: 96.2033\n",
            "training loss: 0.1241\n",
            "trainig accuracy: 96.3550\n",
            "training loss: 0.1171\n",
            "trainig accuracy: 96.6250\n",
            "training loss: 0.1110\n",
            "trainig accuracy: 96.7817\n",
            "training loss: 0.1058\n",
            "trainig accuracy: 96.9200\n",
            "training loss: 0.1015\n",
            "trainig accuracy: 97.0500\n",
            "training loss: 0.0965\n",
            "trainig accuracy: 97.2033\n",
            "training loss: 0.0921\n",
            "trainig accuracy: 97.3467\n",
            "training loss: 0.0890\n",
            "trainig accuracy: 97.3983\n",
            "training loss: 0.0847\n",
            "trainig accuracy: 97.5800\n"
          ],
          "name": "stdout"
        }
      ]
    },
    {
      "cell_type": "code",
      "metadata": {
        "id": "nVn1iMVh8kV3",
        "colab_type": "code",
        "colab": {
          "base_uri": "https://localhost:8080/",
          "height": 282
        },
        "outputId": "0ba222fb-297f-4206-b1d9-63595d9149f6"
      },
      "source": [
        "plt.plot(running_loss_history, label = 'training loss')"
      ],
      "execution_count": 51,
      "outputs": [
        {
          "output_type": "execute_result",
          "data": {
            "text/plain": [
              "[<matplotlib.lines.Line2D at 0x7f3fca294da0>]"
            ]
          },
          "metadata": {
            "tags": []
          },
          "execution_count": 51
        },
        {
          "output_type": "display_data",
          "data": {
            "image/png": "[encoded data removed]",
            "text/plain": [
              "<Figure size 432x288 with 1 Axes>"
            ]
          },
          "metadata": {
            "tags": []
          }
        }
      ]
    },
    {
      "cell_type": "code",
      "metadata": {
        "id": "d1FTFVVz81Iv",
        "colab_type": "code",
        "colab": {}
      },
      "source": [
        "#this graph is fluctuated, so reset the learning rates to a more minor vakue 0.01>>>> 0.001>>>>>0.0001, and run the program again"
      ],
      "execution_count": 0,
      "outputs": []
    },
    {
      "cell_type": "code",
      "metadata": {
        "id": "_LY6-OXNAWe1",
        "colab_type": "code",
        "colab": {
          "base_uri": "https://localhost:8080/",
          "height": 282
        },
        "outputId": "f3bf579a-29e7-42ab-d8ad-f36caabc701c"
      },
      "source": [
        "plt.plot(running_correct_history, label = 'training accuracy')"
      ],
      "execution_count": 53,
      "outputs": [
        {
          "output_type": "execute_result",
          "data": {
            "text/plain": [
              "[<matplotlib.lines.Line2D at 0x7f3fca0bf400>]"
            ]
          },
          "metadata": {
            "tags": []
          },
          "execution_count": 53
        },
        {
          "output_type": "display_data",
          "data": {
            "image/png": "[encoded data removed]",
            "text/plain": [
              "<Figure size 432x288 with 1 Axes>"
            ]
          },
          "metadata": {
            "tags": []
          }
        }
      ]
    },
    {
      "cell_type": "code",
      "metadata": {
        "id": "5KHu-_eFAc3_",
        "colab_type": "code",
        "colab": {}
      },
      "source": [
        ""
      ],
      "execution_count": 0,
      "outputs": []
    }
  ]
}