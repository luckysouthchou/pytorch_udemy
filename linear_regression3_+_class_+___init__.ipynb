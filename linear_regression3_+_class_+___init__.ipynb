{
  "nbformat": 4,
  "nbformat_minor": 0,
  "metadata": {
    "colab": {
      "name": "linear regression3 + class + __init__.ipynb",
      "provenance": [],
      "collapsed_sections": [],
      "authorship_tag": "ABX9TyN/eDkEi5z6PnufLOp93V4p",
      "include_colab_link": true
    },
    "kernelspec": {
      "name": "python3",
      "display_name": "Python 3"
    }
  },
  "cells": [
    {
      "cell_type": "markdown",
      "metadata": {
        "id": "view-in-github",
        "colab_type": "text"
      },
      "source": [
        "<a href=\"https://colab.research.google.com/github/luckysouthchou/pytorch_udemy/blob/master/linear_regression3_%2B_class_%2B___init__.ipynb\" target=\"_parent\"><img src=\"https://colab.research.google.com/assets/colab-badge.svg\" alt=\"Open In Colab\"/></a>"
      ]
    },
    {
      "cell_type": "code",
      "metadata": {
        "id": "hG8wYf_yLDLl",
        "colab_type": "code",
        "outputId": "2753a0cc-57c1-4741-dd86-88b7d172e583",
        "colab": {
          "base_uri": "https://localhost:8080/",
          "height": 34
        }
      },
      "source": [
        "!pip3 install torch"
      ],
      "execution_count": 0,
      "outputs": [
        {
          "output_type": "stream",
          "text": [
            "Requirement already satisfied: torch in /usr/local/lib/python3.6/dist-packages (1.4.0)\n"
          ],
          "name": "stdout"
        }
      ]
    },
    {
      "cell_type": "code",
      "metadata": {
        "id": "Du_T-d3kLHGb",
        "colab_type": "code",
        "colab": {}
      },
      "source": [
        "import torch\n",
        "import torch.nn as nn\n",
        "import matplotlib.pyplot as plt\n",
        "import numpy as np\n",
        "import torch.nn as nn"
      ],
      "execution_count": 0,
      "outputs": []
    },
    {
      "cell_type": "code",
      "metadata": {
        "id": "4gy_xEmmyXff",
        "colab_type": "code",
        "outputId": "dd023820-1cf2-47d4-eb3a-1499b59ff0d1",
        "colab": {
          "base_uri": "https://localhost:8080/",
          "height": 102
        }
      },
      "source": [
        "z = torch.randn(5, 2)\n",
        "z\n",
        "\n",
        "#randn(5, 2) represents 5 rows. 2 columns"
      ],
      "execution_count": 0,
      "outputs": [
        {
          "output_type": "execute_result",
          "data": {
            "text/plain": [
              "tensor([[ 0.5667, -0.4840],\n",
              "        [-0.0504, -0.6378],\n",
              "        [ 0.6655, -0.2916],\n",
              "        [-0.5424,  0.8102],\n",
              "        [ 0.0856, -0.6652]])"
            ]
          },
          "metadata": {
            "tags": []
          },
          "execution_count": 4
        }
      ]
    },
    {
      "cell_type": "code",
      "metadata": {
        "id": "T5F_g8HUVWM5",
        "colab_type": "code",
        "outputId": "ed3a2b46-d47b-42d6-bafb-1d12ac3d871e",
        "colab": {
          "base_uri": "https://localhost:8080/",
          "height": 300
        }
      },
      "source": [
        "x = torch.randn(100, 1) * 10\n",
        "y = x + 3 * torch.randn(100, 1)\n",
        "plt.plot(x, y, 'o')\n",
        "#'o' show the poin, not the line\n",
        "plt.xlabel('x', fontsize=14)\n",
        "plt.ylabel('y')\n",
        "#spell the lable right"
      ],
      "execution_count": 0,
      "outputs": [
        {
          "output_type": "execute_result",
          "data": {
            "text/plain": [
              "Text(0, 0.5, 'y')"
            ]
          },
          "metadata": {
            "tags": []
          },
          "execution_count": 5
        },
        {
          "output_type": "display_data",
          "data": {
            "image/png": "[encoded data removed]",
            "text/plain": [
              "<Figure size 432x288 with 1 Axes>"
            ]
          },
          "metadata": {
            "tags": []
          }
        }
      ]
    },
    {
      "cell_type": "code",
      "metadata": {
        "id": "BdkFS_SALKhA",
        "colab_type": "code",
        "colab": {}
      },
      "source": [
        "class LR(nn.Module):\n",
        "  def __init__(self, input_size, output_size):\n",
        "    super().__init__()\n",
        "\n",
        "    # super init, not super self\n",
        "    self.linear = nn.Linear(input_size, output_size)\n",
        "  def forward(self, x):\n",
        "    pred = self.linear(x)\n",
        "    return pred\n",
        "\n"
      ],
      "execution_count": 0,
      "outputs": []
    },
    {
      "cell_type": "code",
      "metadata": {
        "id": "wbjwJMbDMYqU",
        "colab_type": "code",
        "colab": {}
      },
      "source": [
        "torch.manual_seed(1)\n",
        "model = LR(1, 1)"
      ],
      "execution_count": 0,
      "outputs": []
    },
    {
      "cell_type": "code",
      "metadata": {
        "id": "d_WpBwzFMjiL",
        "colab_type": "code",
        "outputId": "17b4e60f-5eb2-471d-cc19-e572b1f812f2",
        "colab": {
          "base_uri": "https://localhost:8080/",
          "height": 85
        }
      },
      "source": [
        "[w, b ]= model.parameters()\n",
        "#put w, and b into a []\n",
        "print(w)\n",
        "print(b)"
      ],
      "execution_count": 0,
      "outputs": [
        {
          "output_type": "stream",
          "text": [
            "Parameter containing:\n",
            "tensor([[0.5153]], requires_grad=True)\n",
            "Parameter containing:\n",
            "tensor([-0.4414], requires_grad=True)\n"
          ],
          "name": "stdout"
        }
      ]
    },
    {
      "cell_type": "code",
      "metadata": {
        "id": "pPY54zbzMr-d",
        "colab_type": "code",
        "outputId": "383ede3c-6ccb-44c6-8239-776cd388f3cd",
        "colab": {
          "base_uri": "https://localhost:8080/",
          "height": 34
        }
      },
      "source": [
        "w1 = w[0][0].item()\n",
        "#.item return a numpy value\n",
        "b1 = b[0]\n",
        "print(w1, b1)"
      ],
      "execution_count": 0,
      "outputs": [
        {
          "output_type": "stream",
          "text": [
            "0.5152631998062134 tensor(-0.4414, grad_fn=<SelectBackward>)\n"
          ],
          "name": "stdout"
        }
      ]
    },
    {
      "cell_type": "code",
      "metadata": {
        "id": "UWyo6MB6vNhs",
        "colab_type": "code",
        "colab": {}
      },
      "source": [
        "def get_params():\n",
        "  return (w[0][0].item(),b[0].item())\n",
        "\n",
        "  #item: return numpy array"
      ],
      "execution_count": 0,
      "outputs": []
    },
    {
      "cell_type": "code",
      "metadata": {
        "id": "8s6CqvfjwCul",
        "colab_type": "code",
        "colab": {}
      },
      "source": [
        "def plot_fit(title):\n",
        "  # title is the title of this graph\n",
        "  plt.title = title\n",
        "  w1, b1 = get_params()\n",
        "  x1 = np.array([-30, 30])\n",
        "  y1 = w1 * x1 + b1\n",
        "  plt.plot(x1, y1, 'r')\n",
        "  #plt.plot(): lines\n",
        "  #plt.scatter(): points\n",
        "  plt.scatter(x, y)\n",
        "  plt.show()\n",
        "# 'r' is color red\n",
        "plot_fit('gigi')"
      ],
      "execution_count": 0,
      "outputs": []
    },
    {
      "cell_type": "code",
      "metadata": {
        "id": "Har-ku05w5b_",
        "colab_type": "code",
        "colab": {}
      },
      "source": [
        "criterion = nn.MSELoss()\n"
      ],
      "execution_count": 0,
      "outputs": []
    },
    {
      "cell_type": "code",
      "metadata": {
        "id": "KKe_lLz_-hrU",
        "colab_type": "code",
        "colab": {}
      },
      "source": [
        "#lr : learning rate\n",
        "optimizer = torch.optim.SGD(model.parameters(), lr = 0.01)\n",
        "#SGD: static gradient descent"
      ],
      "execution_count": 0,
      "outputs": []
    },
    {
      "cell_type": "code",
      "metadata": {
        "id": "YIxLLtQH9jqq",
        "colab_type": "code",
        "colab": {}
      },
      "source": [
        "#train model \n",
        "epochs = 100 \n",
        "losses = []\n",
        "#epoch related to underfitting and overfitting\n"
      ],
      "execution_count": 0,
      "outputs": []
    },
    {
      "cell_type": "code",
      "metadata": {
        "id": "MQboE3VI-Zj2",
        "colab_type": "code",
        "outputId": "c818bfd0-fb65-4701-a3f8-d26436a983d7",
        "colab": {
          "base_uri": "https://localhost:8080/",
          "height": 1000
        }
      },
      "source": [
        "for i in range(epochs):\n",
        "  #minimize the error of the model\n",
        "  y_pred = model.forward(x)\n",
        "  loss = criterion(y_pred, y)\n",
        "  print('epoch:', i, 'loss:', loss.item())\n",
        "\n",
        "  losses.append(loss)\n",
        "  optimizer.zero_grad()\n",
        "  loss.backward()\n",
        "  #get the deriavative of loss fuction \n",
        "  optimizer.step()\n",
        "  #refresh and update the weight of our model\n"
      ],
      "execution_count": 0,
      "outputs": [
        {
          "output_type": "stream",
          "text": [
            "epoch: 0 loss: 32.982505798339844\n",
            "epoch: 1 loss: 28.606046676635742\n",
            "epoch: 2 loss: 25.09487533569336\n",
            "epoch: 3 loss: 22.277687072753906\n",
            "epoch: 4 loss: 20.017072677612305\n",
            "epoch: 5 loss: 18.20284652709961\n",
            "epoch: 6 loss: 16.74665069580078\n",
            "epoch: 7 loss: 15.577619552612305\n",
            "epoch: 8 loss: 14.638920783996582\n",
            "epoch: 9 loss: 13.88498306274414\n",
            "epoch: 10 loss: 13.279254913330078\n",
            "epoch: 11 loss: 12.792431831359863\n",
            "epoch: 12 loss: 12.400992393493652\n",
            "epoch: 13 loss: 12.086098670959473\n",
            "epoch: 14 loss: 11.832619667053223\n",
            "epoch: 15 loss: 11.62843132019043\n",
            "epoch: 16 loss: 11.4638090133667\n",
            "epoch: 17 loss: 11.33094596862793\n",
            "epoch: 18 loss: 11.223589897155762\n",
            "epoch: 19 loss: 11.136714935302734\n",
            "epoch: 20 loss: 11.066303253173828\n",
            "epoch: 21 loss: 11.009115219116211\n",
            "epoch: 22 loss: 10.962563514709473\n",
            "epoch: 23 loss: 10.924571990966797\n",
            "epoch: 24 loss: 10.893462181091309\n",
            "epoch: 25 loss: 10.867905616760254\n",
            "epoch: 26 loss: 10.846822738647461\n",
            "epoch: 27 loss: 10.82934856414795\n",
            "epoch: 28 loss: 10.814794540405273\n",
            "epoch: 29 loss: 10.802602767944336\n",
            "epoch: 30 loss: 10.792322158813477\n",
            "epoch: 31 loss: 10.783596992492676\n",
            "epoch: 32 loss: 10.776140213012695\n",
            "epoch: 33 loss: 10.769715309143066\n",
            "epoch: 34 loss: 10.764135360717773\n",
            "epoch: 35 loss: 10.759252548217773\n",
            "epoch: 36 loss: 10.75494384765625\n",
            "epoch: 37 loss: 10.751110076904297\n",
            "epoch: 38 loss: 10.747673034667969\n",
            "epoch: 39 loss: 10.74456787109375\n",
            "epoch: 40 loss: 10.741742134094238\n",
            "epoch: 41 loss: 10.739154815673828\n",
            "epoch: 42 loss: 10.736769676208496\n",
            "epoch: 43 loss: 10.734562873840332\n",
            "epoch: 44 loss: 10.732505798339844\n",
            "epoch: 45 loss: 10.730583190917969\n",
            "epoch: 46 loss: 10.728777885437012\n",
            "epoch: 47 loss: 10.72707748413086\n",
            "epoch: 48 loss: 10.725471496582031\n",
            "epoch: 49 loss: 10.723949432373047\n",
            "epoch: 50 loss: 10.722504615783691\n",
            "epoch: 51 loss: 10.721131324768066\n",
            "epoch: 52 loss: 10.719825744628906\n",
            "epoch: 53 loss: 10.718576431274414\n",
            "epoch: 54 loss: 10.717386245727539\n",
            "epoch: 55 loss: 10.716248512268066\n",
            "epoch: 56 loss: 10.715160369873047\n",
            "epoch: 57 loss: 10.714117050170898\n",
            "epoch: 58 loss: 10.713118553161621\n",
            "epoch: 59 loss: 10.712162971496582\n",
            "epoch: 60 loss: 10.7112455368042\n",
            "epoch: 61 loss: 10.710367202758789\n",
            "epoch: 62 loss: 10.709522247314453\n",
            "epoch: 63 loss: 10.70871353149414\n",
            "epoch: 64 loss: 10.707938194274902\n",
            "epoch: 65 loss: 10.707193374633789\n",
            "epoch: 66 loss: 10.706477165222168\n",
            "epoch: 67 loss: 10.705791473388672\n",
            "epoch: 68 loss: 10.705133438110352\n",
            "epoch: 69 loss: 10.704501152038574\n",
            "epoch: 70 loss: 10.703892707824707\n",
            "epoch: 71 loss: 10.70330810546875\n",
            "epoch: 72 loss: 10.702746391296387\n",
            "epoch: 73 loss: 10.70220947265625\n",
            "epoch: 74 loss: 10.701691627502441\n",
            "epoch: 75 loss: 10.701197624206543\n",
            "epoch: 76 loss: 10.700718879699707\n",
            "epoch: 77 loss: 10.700261116027832\n",
            "epoch: 78 loss: 10.699819564819336\n",
            "epoch: 79 loss: 10.699398040771484\n",
            "epoch: 80 loss: 10.698992729187012\n",
            "epoch: 81 loss: 10.698602676391602\n",
            "epoch: 82 loss: 10.69822883605957\n",
            "epoch: 83 loss: 10.697868347167969\n",
            "epoch: 84 loss: 10.697524070739746\n",
            "epoch: 85 loss: 10.697190284729004\n",
            "epoch: 86 loss: 10.696869850158691\n",
            "epoch: 87 loss: 10.696566581726074\n",
            "epoch: 88 loss: 10.696272850036621\n",
            "epoch: 89 loss: 10.695991516113281\n",
            "epoch: 90 loss: 10.695718765258789\n",
            "epoch: 91 loss: 10.695457458496094\n",
            "epoch: 92 loss: 10.695207595825195\n",
            "epoch: 93 loss: 10.694967269897461\n",
            "epoch: 94 loss: 10.69473648071289\n",
            "epoch: 95 loss: 10.694514274597168\n",
            "epoch: 96 loss: 10.69430160522461\n",
            "epoch: 97 loss: 10.694095611572266\n",
            "epoch: 98 loss: 10.693899154663086\n",
            "epoch: 99 loss: 10.693711280822754\n"
          ],
          "name": "stdout"
        }
      ]
    },
    {
      "cell_type": "code",
      "metadata": {
        "id": "DuCW_uKhUSGQ",
        "colab_type": "code",
        "outputId": "27e63ee6-c46e-49fd-8a96-a38f41b4aacc",
        "colab": {
          "base_uri": "https://localhost:8080/",
          "height": 296
        }
      },
      "source": [
        "plt.plot(range(epochs), losses)\n",
        "plt.ylabel('Loss')\n",
        "plt.xlabel('epoch')"
      ],
      "execution_count": 0,
      "outputs": [
        {
          "output_type": "execute_result",
          "data": {
            "text/plain": [
              "Text(0.5, 0, 'epoch')"
            ]
          },
          "metadata": {
            "tags": []
          },
          "execution_count": 19
        },
        {
          "output_type": "display_data",
          "data": {
            "image/png": "[encoded data removed]",
            "text/plain": [
              "<Figure size 432x288 with 1 Axes>"
            ]
          },
          "metadata": {
            "tags": []
          }
        }
      ]
    },
    {
      "cell_type": "code",
      "metadata": {
        "id": "eJpgLINiUX92",
        "colab_type": "code",
        "outputId": "b8c863bc-3c0a-4b16-9b5e-227f7f22e25f",
        "colab": {
          "base_uri": "https://localhost:8080/",
          "height": 300
        }
      },
      "source": [
        ""
      ],
      "execution_count": 0,
      "outputs": [
        {
          "output_type": "execute_result",
          "data": {
            "text/plain": [
              "Text(0.5, 0, 'epoch')"
            ]
          },
          "metadata": {
            "tags": []
          },
          "execution_count": 18
        },
        {
          "output_type": "display_data",
          "data": {
            "image/png": "[encoded data removed]",
            "text/plain": [
              "<Figure size 432x288 with 1 Axes>"
            ]
          },
          "metadata": {
            "tags": []
          }
        }
      ]
    },
    {
      "cell_type": "code",
      "metadata": {
        "id": "RpTz_wlrUkbt",
        "colab_type": "code",
        "outputId": "67346b0e-f442-4a01-b9b6-515ef15757f6",
        "colab": {
          "base_uri": "https://localhost:8080/",
          "height": 265
        }
      },
      "source": [
        "plot_fit(\"Trained Model\")"
      ],
      "execution_count": 0,
      "outputs": [
        {
          "output_type": "display_data",
          "data": {
            "image/png": "[encoded data removed]",
            "text/plain": [
              "<Figure size 432x288 with 1 Axes>"
            ]
          },
          "metadata": {
            "tags": []
          }
        }
      ]
    },
    {
      "cell_type": "code",
      "metadata": {
        "id": "b0ivfGw0VEdG",
        "colab_type": "code",
        "colab": {}
      },
      "source": [
        ""
      ],
      "execution_count": 0,
      "outputs": []
    }
  ]
}